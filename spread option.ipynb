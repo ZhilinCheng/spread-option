{
 "cells": [
  {
   "cell_type": "code",
   "execution_count": 8,
   "metadata": {},
   "outputs": [],
   "source": [
    "import numpy as np\n",
    "from random import gauss\n",
    "from math import exp, sqrt, log\n",
    "import matplotlib.pyplot as plt\n",
    "from scipy.stats import norm"
   ]
  },
  {
   "cell_type": "code",
   "execution_count": 9,
   "metadata": {},
   "outputs": [],
   "source": [
    "def MC(t,T,S10,S20,K,r,sigma1,sigma2,corr,sim,optiontype='call'):\n",
    "    if optiontype == 'call':\n",
    "        optType=1\n",
    "    elif optiontype == 'put':\n",
    "        optType=-1\n",
    "    dt = T - t   \n",
    "    drift1 = (r - 0.5*sigma1**2)*dt \n",
    "    vol1 = sigma1*sqrt(dt)  \n",
    "    drift2 = (r - 0.5*sigma2**2)*dt  \n",
    "    vol2 = sigma2*sqrt(dt)    \n",
    "    mean = 0.0\n",
    "    std = 0.0\n",
    "    for i in range(sim):\n",
    "        dB1=gauss(0.0,1.0)  \n",
    "        dB2=corr*dB1+sqrt(1-corr**2)*gauss(0.0,1.0) \n",
    "        S1 = S10*exp(drift1 + vol1*dB1)  \n",
    "        S2 = S20*exp(drift2 + vol2*dB2)  \n",
    "        mean += max(optType*((S1-S2)+abs(S1-S2)-K),0)  \n",
    "        std += max(optType*((S1-S2)+abs(S1-S2)-K),0)*max(optType*((S1-S2)+abs(S1-S2)-K),0)   \n",
    "    mean *= (exp(-r*dt)/sim)  \n",
    "    std = sqrt((std/sim - mean*mean)/sim) \n",
    "    result = [mean,std]\n",
    "    return result\n",
    "#return the mean and standard deviation of the spread option\n",
    "\n",
    "\n",
    " \n"
   ]
  },
  {
   "cell_type": "code",
   "execution_count": 10,
   "metadata": {},
   "outputs": [],
   "source": [
    "#greeks\n",
    "def delta(t,T,S10,S20,K,r,sigma1,sigma2,corr,sim,optiontype='call'):\n",
    "    delta_1=(MC(t,T,S10+1,S20,K,r,sigma1,sigma2,corr,sim,optiontype='call')[0]-MC(t,T,S10,S20,K,r,sigma1,sigma2,corr,sim,optiontype='call')[0])   #delta of dS1\n",
    "    delta_2=(MC(t,T,S10-1,S20,K,r,sigma1,sigma2,corr,sim,optiontype='call')[0]-MC(t,T,S10,S20,K,r,sigma1,sigma2,corr,sim,optiontype='call')[0]) # #delta of dS2\n",
    "    return delta_1,delta_2\n",
    " \n"
   ]
  },
  {
   "cell_type": "code",
   "execution_count": null,
   "metadata": {},
   "outputs": [],
   "source": []
  },
  {
   "cell_type": "code",
   "execution_count": 11,
   "metadata": {},
   "outputs": [
    {
     "data": {
      "text/plain": [
       "(0.0, 0.0)"
      ]
     },
     "execution_count": 11,
     "metadata": {},
     "output_type": "execute_result"
    }
   ],
   "source": [
    "delta(1,3,100,150,60,0.2,4,5,0.5,100,'call')"
   ]
  },
  {
   "cell_type": "code",
   "execution_count": 12,
   "metadata": {},
   "outputs": [
    {
     "data": {
      "text/plain": [
       "[0.0, 0.0]"
      ]
     },
     "execution_count": 12,
     "metadata": {},
     "output_type": "execute_result"
    }
   ],
   "source": [
    "MC(1,3,100,150,60,0.2,4,5,0.5,100,'call')"
   ]
  },
  {
   "cell_type": "code",
   "execution_count": null,
   "metadata": {},
   "outputs": [],
   "source": [
    " "
   ]
  },
  {
   "cell_type": "code",
   "execution_count": 6,
   "metadata": {},
   "outputs": [
    {
     "data": {
      "text/plain": [
       "[0.9634903373382675, 0.9714300393095756]"
      ]
     },
     "execution_count": 6,
     "metadata": {},
     "output_type": "execute_result"
    }
   ],
   "source": [
    "MC(1,2,100,120,80,0.3,5,6,0.2,100,optiontype='call')"
   ]
  },
  {
   "cell_type": "code",
   "execution_count": null,
   "metadata": {},
   "outputs": [],
   "source": []
  },
  {
   "cell_type": "code",
   "execution_count": null,
   "metadata": {},
   "outputs": [],
   "source": []
  }
 ],
 "metadata": {
  "kernelspec": {
   "display_name": "Python 3 (ipykernel)",
   "language": "python",
   "name": "python3"
  },
  "language_info": {
   "codemirror_mode": {
    "name": "ipython",
    "version": 3
   },
   "file_extension": ".py",
   "mimetype": "text/x-python",
   "name": "python",
   "nbconvert_exporter": "python",
   "pygments_lexer": "ipython3",
   "version": "3.9.13"
  }
 },
 "nbformat": 4,
 "nbformat_minor": 4
}
